{
 "cells": [
  {
   "cell_type": "markdown",
   "id": "a93f38f9-e6ed-485a-8d0d-76de9fa57a4f",
   "metadata": {},
   "source": [
    "# Fetching DR1 coadded spectra and strellar models from Python \n",
    "\n",
    "This notebook demonstrates how one can retrieve spectra, variances masks for individual spectra from \n",
    "DESI DR1, without having to download individual large files"
   ]
  },
  {
   "cell_type": "code",
   "execution_count": 1,
   "id": "894be50b-2f7a-4c81-8296-858ee134a7c3",
   "metadata": {},
   "outputs": [],
   "source": [
    "import matplotlib.pyplot as plt\n",
    "import numpy as np\n",
    "\n",
    "plt.rcParams['figure.figsize'] = [10, 10]"
   ]
  },
  {
   "cell_type": "code",
   "execution_count": 2,
   "id": "1e7ff5e9",
   "metadata": {},
   "outputs": [],
   "source": [
    "from desi_retriever.plotter import plot as desi_plot\n",
    "from desi_retriever.dr1 import get_specs, get_rvspec_models"
   ]
  },
  {
   "cell_type": "markdown",
   "id": "5769b592",
   "metadata": {},
   "source": [
    "# DR1"
   ]
  },
  {
   "cell_type": "markdown",
   "id": "8e0b2fc9",
   "metadata": {},
   "source": [
    "We start by showing how to fetch coadded spectra, when you know survey, program, healpix and TARGETID of the source.\n",
    "This information is available for every source in both redshift catalogs and MWS catalogs.\n",
    "\n",
    "The get_specs() function returns a list of dictinaries. Typically there will be only one item in the list.\n",
    "And the keys of the dictionary will be b_wavelength, b_flux etc for b,r,z arms of the instrument."
   ]
  },
  {
   "cell_type": "code",
   "execution_count": null,
   "id": "5d651bf3",
   "metadata": {},
   "outputs": [
    {
     "name": "stdout",
     "output_type": "stream",
     "text": [
      "https://data.desi.lbl.gov/public/dr1//spectro/redux/iron/healpix/sv1/dark/176/17683/coadd-sv1-dark-17683.fits\n"
     ]
    }
   ],
   "source": [
    "SP = get_specs(survey='sv1',\n",
    "               program='dark',\n",
    "               hpx=17683,\n",
    "               targetid=39627652591521181)[0]\n",
    "print(SP)"
   ]
  },
  {
   "cell_type": "markdown",
   "id": "ab5f304d-cdfd-44fc-a919-b8bd60a3b734",
   "metadata": {},
   "source": [
    "# Fetching additional information\n",
    "\n",
    "By default only fluxes and wavelengths are retrieved, but the variances, fibermap, masks can also be fetched when an appropriate keyword is provided."
   ]
  },
  {
   "cell_type": "code",
   "execution_count": null,
   "id": "4b9e9498-bcc3-4226-8ac4-09ded2f67d34",
   "metadata": {},
   "outputs": [],
   "source": [
    "SP = get_specs(survey='sv1',\n",
    "               program='dark',\n",
    "               hpx=17683,\n",
    "               targetid=39627652591521181,\n",
    "               fibermap=True,\n",
    "               mask=True,\n",
    "               ivar=True)[0]\n",
    "print(SP.keys())"
   ]
  },
  {
   "cell_type": "markdown",
   "id": "01bd0b80",
   "metadata": {},
   "source": [
    "## Fetching the corresponding RVSpecFit models\n",
    "\n",
    "You can fetch the rvspecfit best-fit models using similar syntax to get_specs()"
   ]
  },
  {
   "cell_type": "code",
   "execution_count": null,
   "id": "ac418062",
   "metadata": {},
   "outputs": [],
   "source": [
    "SPM = get_rvspec_models(survey='sv1',\n",
    "                        program='dark',\n",
    "                        hpx=17683,\n",
    "                        targetid=39627652591521181)[0]"
   ]
  },
  {
   "cell_type": "code",
   "execution_count": null,
   "id": "98806d95",
   "metadata": {},
   "outputs": [],
   "source": [
    "print(SPM)"
   ]
  },
  {
   "cell_type": "code",
   "execution_count": null,
   "id": "e472cefe",
   "metadata": {},
   "outputs": [],
   "source": [
    "desi_plot(SP, model=SPM)"
   ]
  },
  {
   "cell_type": "markdown",
   "id": "87aa2234",
   "metadata": {},
   "source": [
    "# Retrieving spectra by GAIA ID\n",
    "\n",
    "\n",
    "It is also possible to fetch spectra through just Gaia source_id\n",
    "\n",
    "Note that it's possible that the source would have many spectra if it was observed in multiple surveys, programs."
   ]
  },
  {
   "cell_type": "code",
   "execution_count": null,
   "id": "d39aec7f",
   "metadata": {},
   "outputs": [],
   "source": [
    "# Doing this for the first time may take a few seconds\n",
    "# all the queries after that will be faster\n",
    "my_sourceid = 1384229274732017408\n",
    "\n",
    "desi_plot(get_specs(gaia_edr3_source_id=my_sourceid)[0],\n",
    "          model=get_rvspec_models(gaia_edr3_source_id=my_sourceid)[0],\n",
    "          title='SOURCE_ID=%d' % my_sourceid)"
   ]
  },
  {
   "cell_type": "code",
   "execution_count": null,
   "id": "bdfb1187-766d-4847-9416-c9b8b6c5a2f4",
   "metadata": {},
   "outputs": [],
   "source": []
  }
 ],
 "metadata": {
  "kernelspec": {
   "display_name": "Python 3 (ipykernel)",
   "language": "python",
   "name": "python3"
  },
  "language_info": {
   "codemirror_mode": {
    "name": "ipython",
    "version": 3
   },
   "file_extension": ".py",
   "mimetype": "text/x-python",
   "name": "python",
   "nbconvert_exporter": "python",
   "pygments_lexer": "ipython3",
   "version": "3.10.12"
  }
 },
 "nbformat": 4,
 "nbformat_minor": 5
}
